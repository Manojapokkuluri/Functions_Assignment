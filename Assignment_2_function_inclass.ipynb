{
 "cells": [
  {
   "cell_type": "code",
   "execution_count": 1,
   "id": "52a48b98",
   "metadata": {},
   "outputs": [
    {
     "data": {
      "text/plain": [
       "6"
      ]
     },
     "execution_count": 1,
     "metadata": {},
     "output_type": "execute_result"
    }
   ],
   "source": [
    "#1.\n",
    "def test1():\n",
    "  x=\"manoja\"\n",
    "  a=0\n",
    "  for i in x:\n",
    "    a+=1\n",
    "  return a\n",
    "test1()\n"
   ]
  },
  {
   "cell_type": "code",
   "execution_count": 7,
   "id": "d02fb12d",
   "metadata": {},
   "outputs": [
    {
     "name": "stdout",
     "output_type": "stream",
     "text": [
      "[3, 4]\n"
     ]
    }
   ],
   "source": [
    "#2.\n",
    "def test2():\n",
    "    x=[1,2,3,\"Atri\",\"Atri\"]\n",
    "    res_list = []\n",
    "    for i in range(0, len(x)):\n",
    "        if x[i]==\"Atri\":\n",
    "            res_list.append(i)\n",
    "    print(res_list)    \n",
    "test2()"
   ]
  },
  {
   "cell_type": "code",
   "execution_count": 4,
   "id": "592c5bbe",
   "metadata": {},
   "outputs": [
    {
     "name": "stdout",
     "output_type": "stream",
     "text": [
      "Hostname: DESKTOP-AG8ADC3\n",
      "IP Address: 192.168.0.109\n"
     ]
    }
   ],
   "source": [
    "#3.\n",
    "import socket\n",
    "hostname = socket.gethostname()\n",
    "ip_address = socket.gethostbyname(hostname)\n",
    "print(f\"Hostname: {hostname}\")\n",
    "print(f\"IP Address: {ip_address}\")\n",
    "    "
   ]
  },
  {
   "cell_type": "code",
   "execution_count": null,
   "id": "0ede2221",
   "metadata": {},
   "outputs": [],
   "source": [
    "#4.\n",
    "from tkinter import *\n",
    "import os\n",
    "def shutdown():\n",
    "    return os.system(\"shutdown /s /t 1\")\n",
    "shutdown()\n",
    " "
   ]
  },
  {
   "cell_type": "code",
   "execution_count": null,
   "id": "22483ca2",
   "metadata": {},
   "outputs": [],
   "source": [
    "import os as s\n",
    "shutdown = input(\"Do you wish to shutdown your computer ? (yes / no): \")\n",
    "  \n",
    "if shutdown == 'no':\n",
    "    exit()\n",
    "else:\n",
    "    s.system(\"shutdown /s /t 1\")"
   ]
  },
  {
   "cell_type": "code",
   "execution_count": 5,
   "id": "25f49b43",
   "metadata": {},
   "outputs": [
    {
     "data": {
      "text/plain": [
       "420"
      ]
     },
     "execution_count": 5,
     "metadata": {},
     "output_type": "execute_result"
    }
   ],
   "source": [
    "#5.\n",
    "def test5():\n",
    "    a=[2,5,6,7,\"atri\",\"manoj\"]\n",
    "    x=1\n",
    "    for i in a:\n",
    "        if(type(i)==int):\n",
    "            x=x*i\n",
    "    return x\n",
    "test5()\n",
    "    \n",
    "        "
   ]
  }
 ],
 "metadata": {
  "kernelspec": {
   "display_name": "Python 3 (ipykernel)",
   "language": "python",
   "name": "python3"
  },
  "language_info": {
   "codemirror_mode": {
    "name": "ipython",
    "version": 3
   },
   "file_extension": ".py",
   "mimetype": "text/x-python",
   "name": "python",
   "nbconvert_exporter": "python",
   "pygments_lexer": "ipython3",
   "version": "3.9.12"
  }
 },
 "nbformat": 4,
 "nbformat_minor": 5
}
